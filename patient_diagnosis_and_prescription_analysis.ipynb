{
  "nbformat": 4,
  "nbformat_minor": 0,
  "metadata": {
    "kernelspec": {
      "display_name": "Python 3",
      "language": "python",
      "name": "python3"
    },
    "language_info": {
      "codemirror_mode": {
        "name": "ipython",
        "version": 3
      },
      "file_extension": ".py",
      "mimetype": "text/x-python",
      "name": "python",
      "nbconvert_exporter": "python",
      "pygments_lexer": "ipython3",
      "version": "3.6.8"
    },
    "colab": {
      "name": "patient_diagnosis_and_prescription_analysis.ipynb",
      "provenance": [],
      "collapsed_sections": [],
      "toc_visible": true
    },
    "accelerator": "GPU"
  },
  "cells": [
    {
      "cell_type": "markdown",
      "metadata": {
        "id": "mII3jvK9DNen"
      },
      "source": [
        "# 1. Mounting virtual drive for Google Colab"
      ]
    },
    {
      "cell_type": "code",
      "metadata": {
        "colab": {
          "base_uri": "https://localhost:8080/"
        },
        "id": "59swmDrnzzjS",
        "outputId": "d1cb6bfe-05bc-4d1f-fd02-f3d81d3dd0fd"
      },
      "source": [
        "from google.colab import drive\n",
        "drive.mount('/content/drive')"
      ],
      "execution_count": 4,
      "outputs": [
        {
          "output_type": "stream",
          "text": [
            "Drive already mounted at /content/drive; to attempt to forcibly remount, call drive.mount(\"/content/drive\", force_remount=True).\n"
          ],
          "name": "stdout"
        }
      ]
    },
    {
      "cell_type": "markdown",
      "metadata": {
        "id": "4NIw1C-nDSAz"
      },
      "source": [
        "# 2. Importing libraries and datasets"
      ]
    },
    {
      "cell_type": "code",
      "metadata": {
        "id": "sTtbF79uzvk4"
      },
      "source": [
        "import pandas as pd\n",
        "import numpy as np\n",
        "import matplotlib.pyplot as plt\n",
        "import warnings\n",
        "warnings.filterwarnings('ignore')\n",
        "from sklearn.model_selection import train_test_split\n",
        "from sklearn.preprocessing import LabelEncoder\n",
        "from sklearn.metrics import accuracy_score, recall_score, auc, roc_curve, precision_score, f1_score, roc_auc_score, precision_recall_curve\n",
        "from sklearn.metrics import classification_report, confusion_matrix\n",
        "from sklearn.model_selection import GridSearchCV\n",
        "from sklearn.preprocessing import MinMaxScaler\n",
        "from lightgbm import LGBMClassifier"
      ],
      "execution_count": 3,
      "outputs": []
    },
    {
      "cell_type": "code",
      "metadata": {
        "colab": {
          "base_uri": "https://localhost:8080/",
          "height": 356
        },
        "id": "MWHI5VB6zvk5",
        "outputId": "fd6eac6b-1234-4fda-f9a9-6785b50f50de"
      },
      "source": [
        "df_claims = pd.read_csv(\"/content/drive/MyDrive/claim_lines.csv\")\n",
        "df_claims.head(10)"
      ],
      "execution_count": 4,
      "outputs": [
        {
          "output_type": "execute_result",
          "data": {
            "text/html": [
              "<div>\n",
              "<style scoped>\n",
              "    .dataframe tbody tr th:only-of-type {\n",
              "        vertical-align: middle;\n",
              "    }\n",
              "\n",
              "    .dataframe tbody tr th {\n",
              "        vertical-align: top;\n",
              "    }\n",
              "\n",
              "    .dataframe thead th {\n",
              "        text-align: right;\n",
              "    }\n",
              "</style>\n",
              "<table border=\"1\" class=\"dataframe\">\n",
              "  <thead>\n",
              "    <tr style=\"text-align: right;\">\n",
              "      <th></th>\n",
              "      <th>record_id</th>\n",
              "      <th>member_id</th>\n",
              "      <th>date_svc</th>\n",
              "      <th>diag1</th>\n",
              "    </tr>\n",
              "  </thead>\n",
              "  <tbody>\n",
              "    <tr>\n",
              "      <th>0</th>\n",
              "      <td>57738</td>\n",
              "      <td>M0000001</td>\n",
              "      <td>2015-12-06</td>\n",
              "      <td>N92.6</td>\n",
              "    </tr>\n",
              "    <tr>\n",
              "      <th>1</th>\n",
              "      <td>57750</td>\n",
              "      <td>M0000001</td>\n",
              "      <td>2015-12-06</td>\n",
              "      <td>O26.842</td>\n",
              "    </tr>\n",
              "    <tr>\n",
              "      <th>2</th>\n",
              "      <td>65072</td>\n",
              "      <td>M0000001</td>\n",
              "      <td>2015-12-13</td>\n",
              "      <td>O26.842</td>\n",
              "    </tr>\n",
              "    <tr>\n",
              "      <th>3</th>\n",
              "      <td>201796</td>\n",
              "      <td>M0000001</td>\n",
              "      <td>2016-02-29</td>\n",
              "      <td>O26.843</td>\n",
              "    </tr>\n",
              "    <tr>\n",
              "      <th>4</th>\n",
              "      <td>267197</td>\n",
              "      <td>M0000001</td>\n",
              "      <td>2016-03-27</td>\n",
              "      <td>O26.843</td>\n",
              "    </tr>\n",
              "    <tr>\n",
              "      <th>5</th>\n",
              "      <td>284553</td>\n",
              "      <td>M0000001</td>\n",
              "      <td>2016-04-03</td>\n",
              "      <td>O26.843</td>\n",
              "    </tr>\n",
              "    <tr>\n",
              "      <th>6</th>\n",
              "      <td>301751</td>\n",
              "      <td>M0000001</td>\n",
              "      <td>2016-04-10</td>\n",
              "      <td>O26.843</td>\n",
              "    </tr>\n",
              "    <tr>\n",
              "      <th>7</th>\n",
              "      <td>304120</td>\n",
              "      <td>M0000001</td>\n",
              "      <td>2016-04-11</td>\n",
              "      <td>O26.843</td>\n",
              "    </tr>\n",
              "    <tr>\n",
              "      <th>8</th>\n",
              "      <td>309100</td>\n",
              "      <td>M0000001</td>\n",
              "      <td>2016-04-13</td>\n",
              "      <td>O34.21</td>\n",
              "    </tr>\n",
              "    <tr>\n",
              "      <th>9</th>\n",
              "      <td>309112</td>\n",
              "      <td>M0000001</td>\n",
              "      <td>2016-04-13</td>\n",
              "      <td>O80</td>\n",
              "    </tr>\n",
              "  </tbody>\n",
              "</table>\n",
              "</div>"
            ],
            "text/plain": [
              "   record_id member_id    date_svc    diag1\n",
              "0      57738  M0000001  2015-12-06    N92.6\n",
              "1      57750  M0000001  2015-12-06  O26.842\n",
              "2      65072  M0000001  2015-12-13  O26.842\n",
              "3     201796  M0000001  2016-02-29  O26.843\n",
              "4     267197  M0000001  2016-03-27  O26.843\n",
              "5     284553  M0000001  2016-04-03  O26.843\n",
              "6     301751  M0000001  2016-04-10  O26.843\n",
              "7     304120  M0000001  2016-04-11  O26.843\n",
              "8     309100  M0000001  2016-04-13   O34.21\n",
              "9     309112  M0000001  2016-04-13      O80"
            ]
          },
          "metadata": {
            "tags": []
          },
          "execution_count": 4
        }
      ]
    },
    {
      "cell_type": "code",
      "metadata": {
        "colab": {
          "base_uri": "https://localhost:8080/"
        },
        "id": "do95GFkAzvk6",
        "outputId": "837e6e7e-5727-4b7c-a3cc-3cc5dabe792f"
      },
      "source": [
        "df_claims.info()"
      ],
      "execution_count": 5,
      "outputs": [
        {
          "output_type": "stream",
          "text": [
            "<class 'pandas.core.frame.DataFrame'>\n",
            "RangeIndex: 1919983 entries, 0 to 1919982\n",
            "Data columns (total 4 columns):\n",
            " #   Column     Dtype \n",
            "---  ------     ----- \n",
            " 0   record_id  int64 \n",
            " 1   member_id  object\n",
            " 2   date_svc   object\n",
            " 3   diag1      object\n",
            "dtypes: int64(1), object(3)\n",
            "memory usage: 58.6+ MB\n"
          ],
          "name": "stdout"
        }
      ]
    },
    {
      "cell_type": "code",
      "metadata": {
        "colab": {
          "base_uri": "https://localhost:8080/",
          "height": 356
        },
        "id": "IWR-v3xRzvk6",
        "outputId": "3defbf99-8988-42cc-e870-f1a89f5c14ed"
      },
      "source": [
        "df_ccs = pd.read_csv(\"/content/drive/MyDrive/ccs.csv\")\n",
        "df_ccs.head(10)"
      ],
      "execution_count": 6,
      "outputs": [
        {
          "output_type": "execute_result",
          "data": {
            "text/html": [
              "<div>\n",
              "<style scoped>\n",
              "    .dataframe tbody tr th:only-of-type {\n",
              "        vertical-align: middle;\n",
              "    }\n",
              "\n",
              "    .dataframe tbody tr th {\n",
              "        vertical-align: top;\n",
              "    }\n",
              "\n",
              "    .dataframe thead th {\n",
              "        text-align: right;\n",
              "    }\n",
              "</style>\n",
              "<table border=\"1\" class=\"dataframe\">\n",
              "  <thead>\n",
              "    <tr style=\"text-align: right;\">\n",
              "      <th></th>\n",
              "      <th>diag</th>\n",
              "      <th>diag_desc</th>\n",
              "      <th>ccs_1_desc</th>\n",
              "      <th>ccs_2_desc</th>\n",
              "      <th>ccs_3_desc</th>\n",
              "    </tr>\n",
              "  </thead>\n",
              "  <tbody>\n",
              "    <tr>\n",
              "      <th>0</th>\n",
              "      <td>A000</td>\n",
              "      <td>Cholera due to Vibrio cholerae 01, biovar chol...</td>\n",
              "      <td>Diseases of the digestive system</td>\n",
              "      <td>Intestinal infection [135.]</td>\n",
              "      <td>Intestinal infection</td>\n",
              "    </tr>\n",
              "    <tr>\n",
              "      <th>1</th>\n",
              "      <td>A001</td>\n",
              "      <td>Cholera due to Vibrio cholerae 01, biovar eltor</td>\n",
              "      <td>Diseases of the digestive system</td>\n",
              "      <td>Intestinal infection [135.]</td>\n",
              "      <td>Intestinal infection</td>\n",
              "    </tr>\n",
              "    <tr>\n",
              "      <th>2</th>\n",
              "      <td>A009</td>\n",
              "      <td>Cholera, unspecified</td>\n",
              "      <td>Diseases of the digestive system</td>\n",
              "      <td>Intestinal infection [135.]</td>\n",
              "      <td>Intestinal infection</td>\n",
              "    </tr>\n",
              "    <tr>\n",
              "      <th>3</th>\n",
              "      <td>A0100</td>\n",
              "      <td>Typhoid fever, unspecified</td>\n",
              "      <td>Diseases of the digestive system</td>\n",
              "      <td>Intestinal infection [135.]</td>\n",
              "      <td>Intestinal infection</td>\n",
              "    </tr>\n",
              "    <tr>\n",
              "      <th>4</th>\n",
              "      <td>A0101</td>\n",
              "      <td>Typhoid meningitis</td>\n",
              "      <td>Diseases of the nervous system and sense organs</td>\n",
              "      <td>Central nervous system infection</td>\n",
              "      <td>Meningitis (except that caused by tuberculosis...</td>\n",
              "    </tr>\n",
              "    <tr>\n",
              "      <th>5</th>\n",
              "      <td>A0102</td>\n",
              "      <td>Typhoid fever with heart involvement</td>\n",
              "      <td>Infectious and parasitic diseases</td>\n",
              "      <td>Bacterial infection</td>\n",
              "      <td>Bacterial infection; unspecified site</td>\n",
              "    </tr>\n",
              "    <tr>\n",
              "      <th>6</th>\n",
              "      <td>A0103</td>\n",
              "      <td>Typhoid pneumonia</td>\n",
              "      <td>Diseases of the respiratory system</td>\n",
              "      <td>Respiratory infections</td>\n",
              "      <td>Pneumonia (except that caused by tuberculosis ...</td>\n",
              "    </tr>\n",
              "    <tr>\n",
              "      <th>7</th>\n",
              "      <td>A0104</td>\n",
              "      <td>Typhoid arthritis</td>\n",
              "      <td>Diseases of the musculoskeletal system and con...</td>\n",
              "      <td>Infective arthritis and osteomyelitis (except ...</td>\n",
              "      <td>Infective arthritis and osteomyelitis (except ...</td>\n",
              "    </tr>\n",
              "    <tr>\n",
              "      <th>8</th>\n",
              "      <td>A0105</td>\n",
              "      <td>Typhoid osteomyelitis</td>\n",
              "      <td>Diseases of the musculoskeletal system and con...</td>\n",
              "      <td>Infective arthritis and osteomyelitis (except ...</td>\n",
              "      <td>Infective arthritis and osteomyelitis (except ...</td>\n",
              "    </tr>\n",
              "    <tr>\n",
              "      <th>9</th>\n",
              "      <td>A0109</td>\n",
              "      <td>Typhoid fever with other complications</td>\n",
              "      <td>Diseases of the digestive system</td>\n",
              "      <td>Intestinal infection [135.]</td>\n",
              "      <td>Intestinal infection</td>\n",
              "    </tr>\n",
              "  </tbody>\n",
              "</table>\n",
              "</div>"
            ],
            "text/plain": [
              "    diag  ...                                         ccs_3_desc\n",
              "0   A000  ...                               Intestinal infection\n",
              "1   A001  ...                               Intestinal infection\n",
              "2   A009  ...                               Intestinal infection\n",
              "3  A0100  ...                               Intestinal infection\n",
              "4  A0101  ...  Meningitis (except that caused by tuberculosis...\n",
              "5  A0102  ...              Bacterial infection; unspecified site\n",
              "6  A0103  ...  Pneumonia (except that caused by tuberculosis ...\n",
              "7  A0104  ...  Infective arthritis and osteomyelitis (except ...\n",
              "8  A0105  ...  Infective arthritis and osteomyelitis (except ...\n",
              "9  A0109  ...                               Intestinal infection\n",
              "\n",
              "[10 rows x 5 columns]"
            ]
          },
          "metadata": {
            "tags": []
          },
          "execution_count": 6
        }
      ]
    },
    {
      "cell_type": "code",
      "metadata": {
        "colab": {
          "base_uri": "https://localhost:8080/"
        },
        "id": "WpNF7RW6zvk7",
        "outputId": "0a879885-54b4-47d0-b02a-3b77912b843f"
      },
      "source": [
        "df_ccs.info()"
      ],
      "execution_count": 7,
      "outputs": [
        {
          "output_type": "stream",
          "text": [
            "<class 'pandas.core.frame.DataFrame'>\n",
            "RangeIndex: 72167 entries, 0 to 72166\n",
            "Data columns (total 5 columns):\n",
            " #   Column      Non-Null Count  Dtype \n",
            "---  ------      --------------  ----- \n",
            " 0   diag        72167 non-null  object\n",
            " 1   diag_desc   72167 non-null  object\n",
            " 2   ccs_1_desc  72167 non-null  object\n",
            " 3   ccs_2_desc  72167 non-null  object\n",
            " 4   ccs_3_desc  72167 non-null  object\n",
            "dtypes: object(5)\n",
            "memory usage: 2.8+ MB\n"
          ],
          "name": "stdout"
        }
      ]
    },
    {
      "cell_type": "code",
      "metadata": {
        "colab": {
          "base_uri": "https://localhost:8080/",
          "height": 202
        },
        "id": "q6QHAk8xzvlE",
        "outputId": "292f5d75-0efc-42f1-96e4-02ea8134fa13"
      },
      "source": [
        "df_drugs = pd.read_csv(\"/content/drive/MyDrive/prescription_drugs.csv\")\n",
        "df_drugs.head()"
      ],
      "execution_count": 8,
      "outputs": [
        {
          "output_type": "execute_result",
          "data": {
            "text/html": [
              "<div>\n",
              "<style scoped>\n",
              "    .dataframe tbody tr th:only-of-type {\n",
              "        vertical-align: middle;\n",
              "    }\n",
              "\n",
              "    .dataframe tbody tr th {\n",
              "        vertical-align: top;\n",
              "    }\n",
              "\n",
              "    .dataframe thead th {\n",
              "        text-align: right;\n",
              "    }\n",
              "</style>\n",
              "<table border=\"1\" class=\"dataframe\">\n",
              "  <thead>\n",
              "    <tr style=\"text-align: right;\">\n",
              "      <th></th>\n",
              "      <th>record_id</th>\n",
              "      <th>member_id</th>\n",
              "      <th>date_svc</th>\n",
              "      <th>ndc</th>\n",
              "      <th>drug_category</th>\n",
              "      <th>drug_group</th>\n",
              "      <th>drug_class</th>\n",
              "    </tr>\n",
              "  </thead>\n",
              "  <tbody>\n",
              "    <tr>\n",
              "      <th>0</th>\n",
              "      <td>4115084976453758912</td>\n",
              "      <td>M0023556</td>\n",
              "      <td>2016-05-08</td>\n",
              "      <td>51285040702</td>\n",
              "      <td>Estrogens</td>\n",
              "      <td>Estrogens</td>\n",
              "      <td>Estrogens</td>\n",
              "    </tr>\n",
              "    <tr>\n",
              "      <th>1</th>\n",
              "      <td>1750642805638674193</td>\n",
              "      <td>M0087538</td>\n",
              "      <td>2016-12-05</td>\n",
              "      <td>50474080303</td>\n",
              "      <td>Antiparkinson and Related Therapy Agents</td>\n",
              "      <td>Antiparkinson Dopaminergics</td>\n",
              "      <td>Nonergoline Dopamine Receptor Agonists</td>\n",
              "    </tr>\n",
              "    <tr>\n",
              "      <th>2</th>\n",
              "      <td>5543689263541245391</td>\n",
              "      <td>M0049608</td>\n",
              "      <td>2018-01-18</td>\n",
              "      <td>3089421</td>\n",
              "      <td>Anticoagulants</td>\n",
              "      <td>Direct Factor Xa Inhibitors</td>\n",
              "      <td>Direct Factor Xa Inhibitors</td>\n",
              "    </tr>\n",
              "    <tr>\n",
              "      <th>3</th>\n",
              "      <td>5952194046467620061</td>\n",
              "      <td>M0175153</td>\n",
              "      <td>2017-01-28</td>\n",
              "      <td>603580321</td>\n",
              "      <td>Gastrointestinal Agents - Misc.</td>\n",
              "      <td>Inflammatory Bowel Agents</td>\n",
              "      <td>Inflammatory Bowel Agents</td>\n",
              "    </tr>\n",
              "    <tr>\n",
              "      <th>4</th>\n",
              "      <td>1809570950798791089</td>\n",
              "      <td>M0152187</td>\n",
              "      <td>2016-05-13</td>\n",
              "      <td>591396501</td>\n",
              "      <td>Progestins</td>\n",
              "      <td>Progestins</td>\n",
              "      <td>Progestins</td>\n",
              "    </tr>\n",
              "  </tbody>\n",
              "</table>\n",
              "</div>"
            ],
            "text/plain": [
              "             record_id  ...                              drug_class\n",
              "0  4115084976453758912  ...                               Estrogens\n",
              "1  1750642805638674193  ...  Nonergoline Dopamine Receptor Agonists\n",
              "2  5543689263541245391  ...             Direct Factor Xa Inhibitors\n",
              "3  5952194046467620061  ...               Inflammatory Bowel Agents\n",
              "4  1809570950798791089  ...                              Progestins\n",
              "\n",
              "[5 rows x 7 columns]"
            ]
          },
          "metadata": {
            "tags": []
          },
          "execution_count": 8
        }
      ]
    },
    {
      "cell_type": "code",
      "metadata": {
        "colab": {
          "base_uri": "https://localhost:8080/"
        },
        "id": "5LQNoRsMDggR",
        "outputId": "1d462d12-84ca-45ae-dd2e-81093aac5404"
      },
      "source": [
        "df_drugs.info()"
      ],
      "execution_count": 9,
      "outputs": [
        {
          "output_type": "stream",
          "text": [
            "<class 'pandas.core.frame.DataFrame'>\n",
            "RangeIndex: 3005934 entries, 0 to 3005933\n",
            "Data columns (total 7 columns):\n",
            " #   Column         Dtype \n",
            "---  ------         ----- \n",
            " 0   record_id      int64 \n",
            " 1   member_id      object\n",
            " 2   date_svc       object\n",
            " 3   ndc            int64 \n",
            " 4   drug_category  object\n",
            " 5   drug_group     object\n",
            " 6   drug_class     object\n",
            "dtypes: int64(2), object(5)\n",
            "memory usage: 160.5+ MB\n"
          ],
          "name": "stdout"
        }
      ]
    },
    {
      "cell_type": "markdown",
      "metadata": {
        "id": "pOxemQeMDlXK"
      },
      "source": [
        "# 3. Summarizing member health status based on latest diagnosis"
      ]
    },
    {
      "cell_type": "markdown",
      "metadata": {
        "id": "tAa4nosYFXoj"
      },
      "source": [
        "I decided to go with the latest diagnosis for each patient since that is the true health status at that point of time for the member and it would encompass any details from previous visits. Hence, my assumption is that all previous visits lead up to the final diagnosis and that there are no separate diagnoses.  "
      ]
    },
    {
      "cell_type": "markdown",
      "metadata": {
        "id": "ivIHJEDpzvk7"
      },
      "source": [
        "### 3.1 Changing the diagnosis variable in the claim lines dataset to match the corresponding name in the CCS dataset so that we can jon the two datasets on that variable"
      ]
    },
    {
      "cell_type": "code",
      "metadata": {
        "colab": {
          "base_uri": "https://localhost:8080/",
          "height": 202
        },
        "id": "059AL120zvk7",
        "outputId": "387787df-fe19-4c32-e7f1-13e4894d79d6"
      },
      "source": [
        "#Renaming diagnosis column\n",
        "df_claims = df_claims.rename(columns={'diag1':'diag'})\n",
        "df_claims.head()"
      ],
      "execution_count": 10,
      "outputs": [
        {
          "output_type": "execute_result",
          "data": {
            "text/html": [
              "<div>\n",
              "<style scoped>\n",
              "    .dataframe tbody tr th:only-of-type {\n",
              "        vertical-align: middle;\n",
              "    }\n",
              "\n",
              "    .dataframe tbody tr th {\n",
              "        vertical-align: top;\n",
              "    }\n",
              "\n",
              "    .dataframe thead th {\n",
              "        text-align: right;\n",
              "    }\n",
              "</style>\n",
              "<table border=\"1\" class=\"dataframe\">\n",
              "  <thead>\n",
              "    <tr style=\"text-align: right;\">\n",
              "      <th></th>\n",
              "      <th>record_id</th>\n",
              "      <th>member_id</th>\n",
              "      <th>date_svc</th>\n",
              "      <th>diag</th>\n",
              "    </tr>\n",
              "  </thead>\n",
              "  <tbody>\n",
              "    <tr>\n",
              "      <th>0</th>\n",
              "      <td>57738</td>\n",
              "      <td>M0000001</td>\n",
              "      <td>2015-12-06</td>\n",
              "      <td>N92.6</td>\n",
              "    </tr>\n",
              "    <tr>\n",
              "      <th>1</th>\n",
              "      <td>57750</td>\n",
              "      <td>M0000001</td>\n",
              "      <td>2015-12-06</td>\n",
              "      <td>O26.842</td>\n",
              "    </tr>\n",
              "    <tr>\n",
              "      <th>2</th>\n",
              "      <td>65072</td>\n",
              "      <td>M0000001</td>\n",
              "      <td>2015-12-13</td>\n",
              "      <td>O26.842</td>\n",
              "    </tr>\n",
              "    <tr>\n",
              "      <th>3</th>\n",
              "      <td>201796</td>\n",
              "      <td>M0000001</td>\n",
              "      <td>2016-02-29</td>\n",
              "      <td>O26.843</td>\n",
              "    </tr>\n",
              "    <tr>\n",
              "      <th>4</th>\n",
              "      <td>267197</td>\n",
              "      <td>M0000001</td>\n",
              "      <td>2016-03-27</td>\n",
              "      <td>O26.843</td>\n",
              "    </tr>\n",
              "  </tbody>\n",
              "</table>\n",
              "</div>"
            ],
            "text/plain": [
              "   record_id member_id    date_svc     diag\n",
              "0      57738  M0000001  2015-12-06    N92.6\n",
              "1      57750  M0000001  2015-12-06  O26.842\n",
              "2      65072  M0000001  2015-12-13  O26.842\n",
              "3     201796  M0000001  2016-02-29  O26.843\n",
              "4     267197  M0000001  2016-03-27  O26.843"
            ]
          },
          "metadata": {
            "tags": []
          },
          "execution_count": 10
        }
      ]
    },
    {
      "cell_type": "markdown",
      "metadata": {
        "id": "H_Ihiaaszvk8"
      },
      "source": [
        "### 3.2 Re-formatting diagnosis codes in claim lines dataset to remove the periods so that they match the corresponding diagnosis codes in the CCS dataset."
      ]
    },
    {
      "cell_type": "code",
      "metadata": {
        "colab": {
          "base_uri": "https://localhost:8080/",
          "height": 356
        },
        "id": "xq0yyr6Mzvk8",
        "outputId": "15a9ea2a-5952-4e30-a6df-17ce5e8c94a6"
      },
      "source": [
        "#Removing any '.' characters in the diagnosis codes \n",
        "df_claims['diag'] = df_claims['diag'].str.replace('.','')\n",
        "df_claims.head(10)"
      ],
      "execution_count": 11,
      "outputs": [
        {
          "output_type": "execute_result",
          "data": {
            "text/html": [
              "<div>\n",
              "<style scoped>\n",
              "    .dataframe tbody tr th:only-of-type {\n",
              "        vertical-align: middle;\n",
              "    }\n",
              "\n",
              "    .dataframe tbody tr th {\n",
              "        vertical-align: top;\n",
              "    }\n",
              "\n",
              "    .dataframe thead th {\n",
              "        text-align: right;\n",
              "    }\n",
              "</style>\n",
              "<table border=\"1\" class=\"dataframe\">\n",
              "  <thead>\n",
              "    <tr style=\"text-align: right;\">\n",
              "      <th></th>\n",
              "      <th>record_id</th>\n",
              "      <th>member_id</th>\n",
              "      <th>date_svc</th>\n",
              "      <th>diag</th>\n",
              "    </tr>\n",
              "  </thead>\n",
              "  <tbody>\n",
              "    <tr>\n",
              "      <th>0</th>\n",
              "      <td>57738</td>\n",
              "      <td>M0000001</td>\n",
              "      <td>2015-12-06</td>\n",
              "      <td>N926</td>\n",
              "    </tr>\n",
              "    <tr>\n",
              "      <th>1</th>\n",
              "      <td>57750</td>\n",
              "      <td>M0000001</td>\n",
              "      <td>2015-12-06</td>\n",
              "      <td>O26842</td>\n",
              "    </tr>\n",
              "    <tr>\n",
              "      <th>2</th>\n",
              "      <td>65072</td>\n",
              "      <td>M0000001</td>\n",
              "      <td>2015-12-13</td>\n",
              "      <td>O26842</td>\n",
              "    </tr>\n",
              "    <tr>\n",
              "      <th>3</th>\n",
              "      <td>201796</td>\n",
              "      <td>M0000001</td>\n",
              "      <td>2016-02-29</td>\n",
              "      <td>O26843</td>\n",
              "    </tr>\n",
              "    <tr>\n",
              "      <th>4</th>\n",
              "      <td>267197</td>\n",
              "      <td>M0000001</td>\n",
              "      <td>2016-03-27</td>\n",
              "      <td>O26843</td>\n",
              "    </tr>\n",
              "    <tr>\n",
              "      <th>5</th>\n",
              "      <td>284553</td>\n",
              "      <td>M0000001</td>\n",
              "      <td>2016-04-03</td>\n",
              "      <td>O26843</td>\n",
              "    </tr>\n",
              "    <tr>\n",
              "      <th>6</th>\n",
              "      <td>301751</td>\n",
              "      <td>M0000001</td>\n",
              "      <td>2016-04-10</td>\n",
              "      <td>O26843</td>\n",
              "    </tr>\n",
              "    <tr>\n",
              "      <th>7</th>\n",
              "      <td>304120</td>\n",
              "      <td>M0000001</td>\n",
              "      <td>2016-04-11</td>\n",
              "      <td>O26843</td>\n",
              "    </tr>\n",
              "    <tr>\n",
              "      <th>8</th>\n",
              "      <td>309100</td>\n",
              "      <td>M0000001</td>\n",
              "      <td>2016-04-13</td>\n",
              "      <td>O3421</td>\n",
              "    </tr>\n",
              "    <tr>\n",
              "      <th>9</th>\n",
              "      <td>309112</td>\n",
              "      <td>M0000001</td>\n",
              "      <td>2016-04-13</td>\n",
              "      <td>O80</td>\n",
              "    </tr>\n",
              "  </tbody>\n",
              "</table>\n",
              "</div>"
            ],
            "text/plain": [
              "   record_id member_id    date_svc    diag\n",
              "0      57738  M0000001  2015-12-06    N926\n",
              "1      57750  M0000001  2015-12-06  O26842\n",
              "2      65072  M0000001  2015-12-13  O26842\n",
              "3     201796  M0000001  2016-02-29  O26843\n",
              "4     267197  M0000001  2016-03-27  O26843\n",
              "5     284553  M0000001  2016-04-03  O26843\n",
              "6     301751  M0000001  2016-04-10  O26843\n",
              "7     304120  M0000001  2016-04-11  O26843\n",
              "8     309100  M0000001  2016-04-13   O3421\n",
              "9     309112  M0000001  2016-04-13     O80"
            ]
          },
          "metadata": {
            "tags": []
          },
          "execution_count": 11
        }
      ]
    },
    {
      "cell_type": "markdown",
      "metadata": {
        "id": "-tcyAELFzvk8"
      },
      "source": [
        "The modified dataframe above shows that the formatting worked correctly and we can proceed to the next step. "
      ]
    },
    {
      "cell_type": "markdown",
      "metadata": {
        "id": "YknVga9dzvk9"
      },
      "source": [
        "### 3.3 Merging the claim lines and CCS datasets to map the member IDs to the diagnosis descriptions"
      ]
    },
    {
      "cell_type": "code",
      "metadata": {
        "colab": {
          "base_uri": "https://localhost:8080/",
          "height": 356
        },
        "id": "4h8Ze4aqzvk-",
        "outputId": "6991bc89-f47e-42b1-8935-ba9e0d7d3d13"
      },
      "source": [
        "#Joining the claim_lines and CSS datasets\n",
        "df_diag = df_claims.merge(df_ccs,how='inner',on='diag')\n",
        "df_diag.head(10)"
      ],
      "execution_count": 12,
      "outputs": [
        {
          "output_type": "execute_result",
          "data": {
            "text/html": [
              "<div>\n",
              "<style scoped>\n",
              "    .dataframe tbody tr th:only-of-type {\n",
              "        vertical-align: middle;\n",
              "    }\n",
              "\n",
              "    .dataframe tbody tr th {\n",
              "        vertical-align: top;\n",
              "    }\n",
              "\n",
              "    .dataframe thead th {\n",
              "        text-align: right;\n",
              "    }\n",
              "</style>\n",
              "<table border=\"1\" class=\"dataframe\">\n",
              "  <thead>\n",
              "    <tr style=\"text-align: right;\">\n",
              "      <th></th>\n",
              "      <th>record_id</th>\n",
              "      <th>member_id</th>\n",
              "      <th>date_svc</th>\n",
              "      <th>diag</th>\n",
              "      <th>diag_desc</th>\n",
              "      <th>ccs_1_desc</th>\n",
              "      <th>ccs_2_desc</th>\n",
              "      <th>ccs_3_desc</th>\n",
              "    </tr>\n",
              "  </thead>\n",
              "  <tbody>\n",
              "    <tr>\n",
              "      <th>0</th>\n",
              "      <td>57738</td>\n",
              "      <td>M0000001</td>\n",
              "      <td>2015-12-06</td>\n",
              "      <td>N926</td>\n",
              "      <td>Irregular menstruation, unspecified</td>\n",
              "      <td>Diseases of the genitourinary system</td>\n",
              "      <td>Diseases of female genital organs</td>\n",
              "      <td>Menstrual disorders</td>\n",
              "    </tr>\n",
              "    <tr>\n",
              "      <th>1</th>\n",
              "      <td>1563758</td>\n",
              "      <td>M0000131</td>\n",
              "      <td>2018-01-20</td>\n",
              "      <td>N926</td>\n",
              "      <td>Irregular menstruation, unspecified</td>\n",
              "      <td>Diseases of the genitourinary system</td>\n",
              "      <td>Diseases of female genital organs</td>\n",
              "      <td>Menstrual disorders</td>\n",
              "    </tr>\n",
              "    <tr>\n",
              "      <th>2</th>\n",
              "      <td>125770</td>\n",
              "      <td>M0000194</td>\n",
              "      <td>2016-01-24</td>\n",
              "      <td>N926</td>\n",
              "      <td>Irregular menstruation, unspecified</td>\n",
              "      <td>Diseases of the genitourinary system</td>\n",
              "      <td>Diseases of female genital organs</td>\n",
              "      <td>Menstrual disorders</td>\n",
              "    </tr>\n",
              "    <tr>\n",
              "      <th>3</th>\n",
              "      <td>652693</td>\n",
              "      <td>M0000231</td>\n",
              "      <td>2016-09-04</td>\n",
              "      <td>N926</td>\n",
              "      <td>Irregular menstruation, unspecified</td>\n",
              "      <td>Diseases of the genitourinary system</td>\n",
              "      <td>Diseases of female genital organs</td>\n",
              "      <td>Menstrual disorders</td>\n",
              "    </tr>\n",
              "    <tr>\n",
              "      <th>4</th>\n",
              "      <td>1721525</td>\n",
              "      <td>M0000252</td>\n",
              "      <td>2018-03-01</td>\n",
              "      <td>N926</td>\n",
              "      <td>Irregular menstruation, unspecified</td>\n",
              "      <td>Diseases of the genitourinary system</td>\n",
              "      <td>Diseases of female genital organs</td>\n",
              "      <td>Menstrual disorders</td>\n",
              "    </tr>\n",
              "    <tr>\n",
              "      <th>5</th>\n",
              "      <td>1308475</td>\n",
              "      <td>M0000340</td>\n",
              "      <td>2017-09-07</td>\n",
              "      <td>N926</td>\n",
              "      <td>Irregular menstruation, unspecified</td>\n",
              "      <td>Diseases of the genitourinary system</td>\n",
              "      <td>Diseases of female genital organs</td>\n",
              "      <td>Menstrual disorders</td>\n",
              "    </tr>\n",
              "    <tr>\n",
              "      <th>6</th>\n",
              "      <td>169753</td>\n",
              "      <td>M0000404</td>\n",
              "      <td>2016-02-15</td>\n",
              "      <td>N926</td>\n",
              "      <td>Irregular menstruation, unspecified</td>\n",
              "      <td>Diseases of the genitourinary system</td>\n",
              "      <td>Diseases of female genital organs</td>\n",
              "      <td>Menstrual disorders</td>\n",
              "    </tr>\n",
              "    <tr>\n",
              "      <th>7</th>\n",
              "      <td>1501163</td>\n",
              "      <td>M0000407</td>\n",
              "      <td>2017-12-30</td>\n",
              "      <td>N926</td>\n",
              "      <td>Irregular menstruation, unspecified</td>\n",
              "      <td>Diseases of the genitourinary system</td>\n",
              "      <td>Diseases of female genital organs</td>\n",
              "      <td>Menstrual disorders</td>\n",
              "    </tr>\n",
              "    <tr>\n",
              "      <th>8</th>\n",
              "      <td>578127</td>\n",
              "      <td>M0000495</td>\n",
              "      <td>2016-08-03</td>\n",
              "      <td>N926</td>\n",
              "      <td>Irregular menstruation, unspecified</td>\n",
              "      <td>Diseases of the genitourinary system</td>\n",
              "      <td>Diseases of female genital organs</td>\n",
              "      <td>Menstrual disorders</td>\n",
              "    </tr>\n",
              "    <tr>\n",
              "      <th>9</th>\n",
              "      <td>543887</td>\n",
              "      <td>M0001931</td>\n",
              "      <td>2016-07-19</td>\n",
              "      <td>N926</td>\n",
              "      <td>Irregular menstruation, unspecified</td>\n",
              "      <td>Diseases of the genitourinary system</td>\n",
              "      <td>Diseases of female genital organs</td>\n",
              "      <td>Menstrual disorders</td>\n",
              "    </tr>\n",
              "  </tbody>\n",
              "</table>\n",
              "</div>"
            ],
            "text/plain": [
              "   record_id member_id  ...                         ccs_2_desc           ccs_3_desc\n",
              "0      57738  M0000001  ...  Diseases of female genital organs  Menstrual disorders\n",
              "1    1563758  M0000131  ...  Diseases of female genital organs  Menstrual disorders\n",
              "2     125770  M0000194  ...  Diseases of female genital organs  Menstrual disorders\n",
              "3     652693  M0000231  ...  Diseases of female genital organs  Menstrual disorders\n",
              "4    1721525  M0000252  ...  Diseases of female genital organs  Menstrual disorders\n",
              "5    1308475  M0000340  ...  Diseases of female genital organs  Menstrual disorders\n",
              "6     169753  M0000404  ...  Diseases of female genital organs  Menstrual disorders\n",
              "7    1501163  M0000407  ...  Diseases of female genital organs  Menstrual disorders\n",
              "8     578127  M0000495  ...  Diseases of female genital organs  Menstrual disorders\n",
              "9     543887  M0001931  ...  Diseases of female genital organs  Menstrual disorders\n",
              "\n",
              "[10 rows x 8 columns]"
            ]
          },
          "metadata": {
            "tags": []
          },
          "execution_count": 12
        }
      ]
    },
    {
      "cell_type": "markdown",
      "metadata": {
        "id": "LWTjbCES4whP"
      },
      "source": [
        "### 3.4 Finding the most recent diagnosis for each member"
      ]
    },
    {
      "cell_type": "code",
      "metadata": {
        "colab": {
          "base_uri": "https://localhost:8080/",
          "height": 202
        },
        "id": "tQ2yJUEVzvlD",
        "outputId": "3043185e-0b69-417d-e047-6f56eacc12d5"
      },
      "source": [
        "#Converting the dates from string to Pandas datetime format for easier manipulation\n",
        "df_diag['date_svc'] = df_diag['date_svc'].apply(pd.to_datetime)\n",
        "df_diag.head()"
      ],
      "execution_count": 13,
      "outputs": [
        {
          "output_type": "execute_result",
          "data": {
            "text/html": [
              "<div>\n",
              "<style scoped>\n",
              "    .dataframe tbody tr th:only-of-type {\n",
              "        vertical-align: middle;\n",
              "    }\n",
              "\n",
              "    .dataframe tbody tr th {\n",
              "        vertical-align: top;\n",
              "    }\n",
              "\n",
              "    .dataframe thead th {\n",
              "        text-align: right;\n",
              "    }\n",
              "</style>\n",
              "<table border=\"1\" class=\"dataframe\">\n",
              "  <thead>\n",
              "    <tr style=\"text-align: right;\">\n",
              "      <th></th>\n",
              "      <th>record_id</th>\n",
              "      <th>member_id</th>\n",
              "      <th>date_svc</th>\n",
              "      <th>diag</th>\n",
              "      <th>diag_desc</th>\n",
              "      <th>ccs_1_desc</th>\n",
              "      <th>ccs_2_desc</th>\n",
              "      <th>ccs_3_desc</th>\n",
              "    </tr>\n",
              "  </thead>\n",
              "  <tbody>\n",
              "    <tr>\n",
              "      <th>0</th>\n",
              "      <td>57738</td>\n",
              "      <td>M0000001</td>\n",
              "      <td>2015-12-06</td>\n",
              "      <td>N926</td>\n",
              "      <td>Irregular menstruation, unspecified</td>\n",
              "      <td>Diseases of the genitourinary system</td>\n",
              "      <td>Diseases of female genital organs</td>\n",
              "      <td>Menstrual disorders</td>\n",
              "    </tr>\n",
              "    <tr>\n",
              "      <th>1</th>\n",
              "      <td>1563758</td>\n",
              "      <td>M0000131</td>\n",
              "      <td>2018-01-20</td>\n",
              "      <td>N926</td>\n",
              "      <td>Irregular menstruation, unspecified</td>\n",
              "      <td>Diseases of the genitourinary system</td>\n",
              "      <td>Diseases of female genital organs</td>\n",
              "      <td>Menstrual disorders</td>\n",
              "    </tr>\n",
              "    <tr>\n",
              "      <th>2</th>\n",
              "      <td>125770</td>\n",
              "      <td>M0000194</td>\n",
              "      <td>2016-01-24</td>\n",
              "      <td>N926</td>\n",
              "      <td>Irregular menstruation, unspecified</td>\n",
              "      <td>Diseases of the genitourinary system</td>\n",
              "      <td>Diseases of female genital organs</td>\n",
              "      <td>Menstrual disorders</td>\n",
              "    </tr>\n",
              "    <tr>\n",
              "      <th>3</th>\n",
              "      <td>652693</td>\n",
              "      <td>M0000231</td>\n",
              "      <td>2016-09-04</td>\n",
              "      <td>N926</td>\n",
              "      <td>Irregular menstruation, unspecified</td>\n",
              "      <td>Diseases of the genitourinary system</td>\n",
              "      <td>Diseases of female genital organs</td>\n",
              "      <td>Menstrual disorders</td>\n",
              "    </tr>\n",
              "    <tr>\n",
              "      <th>4</th>\n",
              "      <td>1721525</td>\n",
              "      <td>M0000252</td>\n",
              "      <td>2018-03-01</td>\n",
              "      <td>N926</td>\n",
              "      <td>Irregular menstruation, unspecified</td>\n",
              "      <td>Diseases of the genitourinary system</td>\n",
              "      <td>Diseases of female genital organs</td>\n",
              "      <td>Menstrual disorders</td>\n",
              "    </tr>\n",
              "  </tbody>\n",
              "</table>\n",
              "</div>"
            ],
            "text/plain": [
              "   record_id member_id  ...                         ccs_2_desc           ccs_3_desc\n",
              "0      57738  M0000001  ...  Diseases of female genital organs  Menstrual disorders\n",
              "1    1563758  M0000131  ...  Diseases of female genital organs  Menstrual disorders\n",
              "2     125770  M0000194  ...  Diseases of female genital organs  Menstrual disorders\n",
              "3     652693  M0000231  ...  Diseases of female genital organs  Menstrual disorders\n",
              "4    1721525  M0000252  ...  Diseases of female genital organs  Menstrual disorders\n",
              "\n",
              "[5 rows x 8 columns]"
            ]
          },
          "metadata": {
            "tags": []
          },
          "execution_count": 13
        }
      ]
    },
    {
      "cell_type": "code",
      "metadata": {
        "colab": {
          "base_uri": "https://localhost:8080/",
          "height": 202
        },
        "id": "YOV4Yiv950Z5",
        "outputId": "11904788-9a3c-4cd1-9b89-ee2b370349b3"
      },
      "source": [
        "#Grouping by member ID and finding the latest member diagnosis\n",
        "df_latest_date = df_diag.loc[df_diag.groupby('member_id')['date_svc'].idxmax()]\n",
        "df_latest_date.head()"
      ],
      "execution_count": 15,
      "outputs": [
        {
          "output_type": "execute_result",
          "data": {
            "text/html": [
              "<div>\n",
              "<style scoped>\n",
              "    .dataframe tbody tr th:only-of-type {\n",
              "        vertical-align: middle;\n",
              "    }\n",
              "\n",
              "    .dataframe tbody tr th {\n",
              "        vertical-align: top;\n",
              "    }\n",
              "\n",
              "    .dataframe thead th {\n",
              "        text-align: right;\n",
              "    }\n",
              "</style>\n",
              "<table border=\"1\" class=\"dataframe\">\n",
              "  <thead>\n",
              "    <tr style=\"text-align: right;\">\n",
              "      <th></th>\n",
              "      <th>record_id</th>\n",
              "      <th>member_id</th>\n",
              "      <th>date_svc</th>\n",
              "      <th>diag</th>\n",
              "      <th>diag_desc</th>\n",
              "      <th>ccs_1_desc</th>\n",
              "      <th>ccs_2_desc</th>\n",
              "      <th>ccs_3_desc</th>\n",
              "    </tr>\n",
              "  </thead>\n",
              "  <tbody>\n",
              "    <tr>\n",
              "      <th>5012</th>\n",
              "      <td>319629</td>\n",
              "      <td>M0000001</td>\n",
              "      <td>2016-04-17</td>\n",
              "      <td>Z3801</td>\n",
              "      <td>Single liveborn infant, delivered by cesarean</td>\n",
              "      <td>Certain conditions originating in the perinata...</td>\n",
              "      <td>Liveborn [218.]</td>\n",
              "      <td>Liveborn</td>\n",
              "    </tr>\n",
              "    <tr>\n",
              "      <th>98015</th>\n",
              "      <td>1170773</td>\n",
              "      <td>M0000002</td>\n",
              "      <td>2017-06-05</td>\n",
              "      <td>I25118</td>\n",
              "      <td>Athscl heart disease of native cor art w oth a...</td>\n",
              "      <td>Diseases of the circulatory system</td>\n",
              "      <td>Diseases of the heart</td>\n",
              "      <td>Coronary atherosclerosis and other heart disease</td>\n",
              "    </tr>\n",
              "    <tr>\n",
              "      <th>98335</th>\n",
              "      <td>1275838</td>\n",
              "      <td>M0000003</td>\n",
              "      <td>2017-08-16</td>\n",
              "      <td>M2022</td>\n",
              "      <td>Hallux rigidus, left foot</td>\n",
              "      <td>Diseases of the musculoskeletal system and con...</td>\n",
              "      <td>Acquired deformities</td>\n",
              "      <td>Acquired foot deformities</td>\n",
              "    </tr>\n",
              "    <tr>\n",
              "      <th>98504</th>\n",
              "      <td>1793014</td>\n",
              "      <td>M0000004</td>\n",
              "      <td>2018-03-19</td>\n",
              "      <td>Z111</td>\n",
              "      <td>Encounter for screening for respiratory tuberc...</td>\n",
              "      <td>Infectious and parasitic diseases</td>\n",
              "      <td>Immunizations and screening for infectious dis...</td>\n",
              "      <td>Immunizations and screening for infectious dis...</td>\n",
              "    </tr>\n",
              "    <tr>\n",
              "      <th>101978</th>\n",
              "      <td>1658297</td>\n",
              "      <td>M0000005</td>\n",
              "      <td>2018-02-14</td>\n",
              "      <td>G43001</td>\n",
              "      <td>Migraine w/o aura, not intractable, with statu...</td>\n",
              "      <td>Diseases of the nervous system and sense organs</td>\n",
              "      <td>Headache; including migraine [84.]</td>\n",
              "      <td>Headache; including migraine</td>\n",
              "    </tr>\n",
              "  </tbody>\n",
              "</table>\n",
              "</div>"
            ],
            "text/plain": [
              "        record_id  ...                                         ccs_3_desc\n",
              "5012       319629  ...                                           Liveborn\n",
              "98015     1170773  ...   Coronary atherosclerosis and other heart disease\n",
              "98335     1275838  ...                          Acquired foot deformities\n",
              "98504     1793014  ...  Immunizations and screening for infectious dis...\n",
              "101978    1658297  ...                       Headache; including migraine\n",
              "\n",
              "[5 rows x 8 columns]"
            ]
          },
          "metadata": {
            "tags": []
          },
          "execution_count": 15
        }
      ]
    },
    {
      "cell_type": "code",
      "metadata": {
        "colab": {
          "base_uri": "https://localhost:8080/"
        },
        "id": "8KcOkCn32WUB",
        "outputId": "484ee0b6-24f6-4ed1-da7a-fd006f31d3fe"
      },
      "source": [
        "print (\"Number of unique categories for diag_desc: \",len(df_latest_date['diag_desc'].value_counts()))"
      ],
      "execution_count": 21,
      "outputs": [
        {
          "output_type": "stream",
          "text": [
            "Number of unique categories for diag_desc:  9418\n"
          ],
          "name": "stdout"
        }
      ]
    },
    {
      "cell_type": "code",
      "metadata": {
        "colab": {
          "base_uri": "https://localhost:8080/"
        },
        "id": "Mm8E7Jem2WWr",
        "outputId": "cb1ef24b-283b-463b-b7ec-61e783bc662f"
      },
      "source": [
        "print (\"Number of unique categories for ccs_1_desc: \",len(df_latest_date['ccs_1_desc'].value_counts()))"
      ],
      "execution_count": 22,
      "outputs": [
        {
          "output_type": "stream",
          "text": [
            "Number of unique categories for ccs_1_desc:  18\n"
          ],
          "name": "stdout"
        }
      ]
    },
    {
      "cell_type": "code",
      "metadata": {
        "colab": {
          "base_uri": "https://localhost:8080/"
        },
        "id": "hIq5f6W02WZZ",
        "outputId": "435159f5-044b-406c-cf92-9c80c2583d34"
      },
      "source": [
        "print (\"Number of unique categories for ccs_2_desc: \",len(df_latest_date['ccs_2_desc'].value_counts()))"
      ],
      "execution_count": 25,
      "outputs": [
        {
          "output_type": "stream",
          "text": [
            "Number of unique categories for ccs_2_desc:  134\n"
          ],
          "name": "stdout"
        }
      ]
    },
    {
      "cell_type": "code",
      "metadata": {
        "colab": {
          "base_uri": "https://localhost:8080/"
        },
        "id": "il3f5Abe2Wbq",
        "outputId": "dc81b8d2-12fd-4c59-a250-37da42ec2f97"
      },
      "source": [
        "print (\"Number of unique categories for ccs_3_desc: \",len(df_latest_date['ccs_3_desc'].value_counts()))"
      ],
      "execution_count": 24,
      "outputs": [
        {
          "output_type": "stream",
          "text": [
            "Number of unique categories for ccs_3_desc:  267\n"
          ],
          "name": "stdout"
        }
      ]
    },
    {
      "cell_type": "markdown",
      "metadata": {
        "id": "lF6AtrYM-QtY"
      },
      "source": [
        "From the analysis of the unique categories for each diagnosis description, it seems that **ccs_1_desc** seems to have the least number of unique categories which means it's the highest level of diagnosis available, followed by **ccs_2_desc** and **ccs_3_desc**. Lastly, **diag_desc** provides the lowest level description and hence contains the most unique values.\n",
        "\n",
        "Even though **diag_desc** provides a good amount of detail for the diagnosis description, I have chosen to go with **ccs_3_desc** since it has fewer categories and still provides a good amount information regarding the diagnosis. Since it only has 267 categories compared to **diag_desc**, it will also quicken the modeling process. The resulting description is stored in a new variable called **health_status**."
      ]
    },
    {
      "cell_type": "markdown",
      "metadata": {
        "id": "VXwCAbu5zvk_"
      },
      "source": [
        "### 3.5 Compiling the diagnosis descriptions for each unique member"
      ]
    },
    {
      "cell_type": "code",
      "metadata": {
        "colab": {
          "base_uri": "https://localhost:8080/",
          "height": 202
        },
        "id": "UB8B-M1w-7J7",
        "outputId": "46c3172e-502e-44d2-84b0-cde70936fb9a"
      },
      "source": [
        "df_latest_date['health_status'] = df_latest_date.apply((lambda x: 'Member ' + x[1] + ' was diagnosed with ' + x[7]),axis=1)\n",
        "df_latest_date['health_status'] = df_latest_date['health_status'].apply(str.lower)\n",
        "df_latest_date['health_status'] = df_latest_date['health_status'].apply(lambda x: x[0].upper() + x[1:])\n",
        "df_latest_date['health_status'] = df_latest_date['health_status'].apply(lambda x: x[:7] + x[7].upper() + x[8:])\n",
        "df_latest_date.head()"
      ],
      "execution_count": 26,
      "outputs": [
        {
          "output_type": "execute_result",
          "data": {
            "text/html": [
              "<div>\n",
              "<style scoped>\n",
              "    .dataframe tbody tr th:only-of-type {\n",
              "        vertical-align: middle;\n",
              "    }\n",
              "\n",
              "    .dataframe tbody tr th {\n",
              "        vertical-align: top;\n",
              "    }\n",
              "\n",
              "    .dataframe thead th {\n",
              "        text-align: right;\n",
              "    }\n",
              "</style>\n",
              "<table border=\"1\" class=\"dataframe\">\n",
              "  <thead>\n",
              "    <tr style=\"text-align: right;\">\n",
              "      <th></th>\n",
              "      <th>record_id</th>\n",
              "      <th>member_id</th>\n",
              "      <th>date_svc</th>\n",
              "      <th>diag</th>\n",
              "      <th>diag_desc</th>\n",
              "      <th>ccs_1_desc</th>\n",
              "      <th>ccs_2_desc</th>\n",
              "      <th>ccs_3_desc</th>\n",
              "      <th>health_status</th>\n",
              "    </tr>\n",
              "  </thead>\n",
              "  <tbody>\n",
              "    <tr>\n",
              "      <th>5012</th>\n",
              "      <td>319629</td>\n",
              "      <td>M0000001</td>\n",
              "      <td>2016-04-17</td>\n",
              "      <td>Z3801</td>\n",
              "      <td>Single liveborn infant, delivered by cesarean</td>\n",
              "      <td>Certain conditions originating in the perinata...</td>\n",
              "      <td>Liveborn [218.]</td>\n",
              "      <td>Liveborn</td>\n",
              "      <td>Member M0000001 was diagnosed with liveborn</td>\n",
              "    </tr>\n",
              "    <tr>\n",
              "      <th>98015</th>\n",
              "      <td>1170773</td>\n",
              "      <td>M0000002</td>\n",
              "      <td>2017-06-05</td>\n",
              "      <td>I25118</td>\n",
              "      <td>Athscl heart disease of native cor art w oth a...</td>\n",
              "      <td>Diseases of the circulatory system</td>\n",
              "      <td>Diseases of the heart</td>\n",
              "      <td>Coronary atherosclerosis and other heart disease</td>\n",
              "      <td>Member M0000002 was diagnosed with coronary at...</td>\n",
              "    </tr>\n",
              "    <tr>\n",
              "      <th>98335</th>\n",
              "      <td>1275838</td>\n",
              "      <td>M0000003</td>\n",
              "      <td>2017-08-16</td>\n",
              "      <td>M2022</td>\n",
              "      <td>Hallux rigidus, left foot</td>\n",
              "      <td>Diseases of the musculoskeletal system and con...</td>\n",
              "      <td>Acquired deformities</td>\n",
              "      <td>Acquired foot deformities</td>\n",
              "      <td>Member M0000003 was diagnosed with acquired fo...</td>\n",
              "    </tr>\n",
              "    <tr>\n",
              "      <th>98504</th>\n",
              "      <td>1793014</td>\n",
              "      <td>M0000004</td>\n",
              "      <td>2018-03-19</td>\n",
              "      <td>Z111</td>\n",
              "      <td>Encounter for screening for respiratory tuberc...</td>\n",
              "      <td>Infectious and parasitic diseases</td>\n",
              "      <td>Immunizations and screening for infectious dis...</td>\n",
              "      <td>Immunizations and screening for infectious dis...</td>\n",
              "      <td>Member M0000004 was diagnosed with immunizatio...</td>\n",
              "    </tr>\n",
              "    <tr>\n",
              "      <th>101978</th>\n",
              "      <td>1658297</td>\n",
              "      <td>M0000005</td>\n",
              "      <td>2018-02-14</td>\n",
              "      <td>G43001</td>\n",
              "      <td>Migraine w/o aura, not intractable, with statu...</td>\n",
              "      <td>Diseases of the nervous system and sense organs</td>\n",
              "      <td>Headache; including migraine [84.]</td>\n",
              "      <td>Headache; including migraine</td>\n",
              "      <td>Member M0000005 was diagnosed with headache; i...</td>\n",
              "    </tr>\n",
              "  </tbody>\n",
              "</table>\n",
              "</div>"
            ],
            "text/plain": [
              "        record_id  ...                                      health_status\n",
              "5012       319629  ...        Member M0000001 was diagnosed with liveborn\n",
              "98015     1170773  ...  Member M0000002 was diagnosed with coronary at...\n",
              "98335     1275838  ...  Member M0000003 was diagnosed with acquired fo...\n",
              "98504     1793014  ...  Member M0000004 was diagnosed with immunizatio...\n",
              "101978    1658297  ...  Member M0000005 was diagnosed with headache; i...\n",
              "\n",
              "[5 rows x 9 columns]"
            ]
          },
          "metadata": {
            "tags": []
          },
          "execution_count": 26
        }
      ]
    },
    {
      "cell_type": "code",
      "metadata": {
        "colab": {
          "base_uri": "https://localhost:8080/",
          "height": 202
        },
        "id": "UvceeUdl_dPH",
        "outputId": "028b20ee-3a2a-4d6f-bd98-8bf0bad3cac7"
      },
      "source": [
        "df_health_status = df_latest_date[['member_id','health_status']]\n",
        "df_health_status.index = range(1,df_health_status.shape[0]+1)\n",
        "df_health_status.head()"
      ],
      "execution_count": 27,
      "outputs": [
        {
          "output_type": "execute_result",
          "data": {
            "text/html": [
              "<div>\n",
              "<style scoped>\n",
              "    .dataframe tbody tr th:only-of-type {\n",
              "        vertical-align: middle;\n",
              "    }\n",
              "\n",
              "    .dataframe tbody tr th {\n",
              "        vertical-align: top;\n",
              "    }\n",
              "\n",
              "    .dataframe thead th {\n",
              "        text-align: right;\n",
              "    }\n",
              "</style>\n",
              "<table border=\"1\" class=\"dataframe\">\n",
              "  <thead>\n",
              "    <tr style=\"text-align: right;\">\n",
              "      <th></th>\n",
              "      <th>member_id</th>\n",
              "      <th>health_status</th>\n",
              "    </tr>\n",
              "  </thead>\n",
              "  <tbody>\n",
              "    <tr>\n",
              "      <th>1</th>\n",
              "      <td>M0000001</td>\n",
              "      <td>Member M0000001 was diagnosed with liveborn</td>\n",
              "    </tr>\n",
              "    <tr>\n",
              "      <th>2</th>\n",
              "      <td>M0000002</td>\n",
              "      <td>Member M0000002 was diagnosed with coronary at...</td>\n",
              "    </tr>\n",
              "    <tr>\n",
              "      <th>3</th>\n",
              "      <td>M0000003</td>\n",
              "      <td>Member M0000003 was diagnosed with acquired fo...</td>\n",
              "    </tr>\n",
              "    <tr>\n",
              "      <th>4</th>\n",
              "      <td>M0000004</td>\n",
              "      <td>Member M0000004 was diagnosed with immunizatio...</td>\n",
              "    </tr>\n",
              "    <tr>\n",
              "      <th>5</th>\n",
              "      <td>M0000005</td>\n",
              "      <td>Member M0000005 was diagnosed with headache; i...</td>\n",
              "    </tr>\n",
              "  </tbody>\n",
              "</table>\n",
              "</div>"
            ],
            "text/plain": [
              "  member_id                                      health_status\n",
              "1  M0000001        Member M0000001 was diagnosed with liveborn\n",
              "2  M0000002  Member M0000002 was diagnosed with coronary at...\n",
              "3  M0000003  Member M0000003 was diagnosed with acquired fo...\n",
              "4  M0000004  Member M0000004 was diagnosed with immunizatio...\n",
              "5  M0000005  Member M0000005 was diagnosed with headache; i..."
            ]
          },
          "metadata": {
            "tags": []
          },
          "execution_count": 27
        }
      ]
    },
    {
      "cell_type": "markdown",
      "metadata": {
        "id": "QFQKt7Kxp7A7"
      },
      "source": [
        "### 3.6 Exporting the health statuses as a CSV file"
      ]
    },
    {
      "cell_type": "code",
      "metadata": {
        "id": "fEAwuHuspw6J"
      },
      "source": [
        "df_health_status.to_csv('member_health_statuses.csv')"
      ],
      "execution_count": 28,
      "outputs": []
    },
    {
      "cell_type": "markdown",
      "metadata": {
        "id": "u3bOoOqRFCL4"
      },
      "source": [
        "### 3.7 Previewing a few of the health statuses"
      ]
    },
    {
      "cell_type": "code",
      "metadata": {
        "colab": {
          "base_uri": "https://localhost:8080/",
          "height": 34
        },
        "id": "OwnJqJjHFBud",
        "outputId": "52e6fe32-dc53-4a27-896c-909fbb2595d8"
      },
      "source": [
        "df_health_status.iloc[0,-1]"
      ],
      "execution_count": 29,
      "outputs": [
        {
          "output_type": "execute_result",
          "data": {
            "application/vnd.google.colaboratory.intrinsic+json": {
              "type": "string"
            },
            "text/plain": [
              "'Member M0000001 was diagnosed with liveborn'"
            ]
          },
          "metadata": {
            "tags": []
          },
          "execution_count": 29
        }
      ]
    },
    {
      "cell_type": "code",
      "metadata": {
        "colab": {
          "base_uri": "https://localhost:8080/",
          "height": 34
        },
        "id": "9N34PFmsFQTt",
        "outputId": "99cf12a7-a12b-4214-98e6-821309374042"
      },
      "source": [
        "df_health_status.iloc[1,-1]"
      ],
      "execution_count": 30,
      "outputs": [
        {
          "output_type": "execute_result",
          "data": {
            "application/vnd.google.colaboratory.intrinsic+json": {
              "type": "string"
            },
            "text/plain": [
              "'Member M0000002 was diagnosed with coronary atherosclerosis and other heart disease'"
            ]
          },
          "metadata": {
            "tags": []
          },
          "execution_count": 30
        }
      ]
    },
    {
      "cell_type": "code",
      "metadata": {
        "colab": {
          "base_uri": "https://localhost:8080/",
          "height": 34
        },
        "id": "Xs_pTz8UFBnN",
        "outputId": "e84de94e-a691-4942-8ab2-446e7bbf5f90"
      },
      "source": [
        "df_health_status.iloc[2,-1]"
      ],
      "execution_count": 31,
      "outputs": [
        {
          "output_type": "execute_result",
          "data": {
            "application/vnd.google.colaboratory.intrinsic+json": {
              "type": "string"
            },
            "text/plain": [
              "'Member M0000003 was diagnosed with acquired foot deformities'"
            ]
          },
          "metadata": {
            "tags": []
          },
          "execution_count": 31
        }
      ]
    },
    {
      "cell_type": "markdown",
      "metadata": {
        "id": "xz5ou9C9zvlD"
      },
      "source": [
        "# 4. Predicting diagnosis based on prescription"
      ]
    },
    {
      "cell_type": "markdown",
      "metadata": {
        "id": "5LLSaXRMGLbr"
      },
      "source": [
        "For this part, we can use the prescription data as independent variables and try to predict the target variable which is the health status. Hence, this would be a multi-class classification problem. We can use the accuracy, ROC AUC, precision and recall metrics to evaluate the model. \n",
        "\n",
        "The idea is to see if all the prescribed medications for members (not only the latest) can narrow down the health status with the goal of pinpointing the ultimate (latest) health condition early on. \n",
        "\n",
        "Another way the prediction problem could have been setup is by using **diag_desc** as the target variable since it provides more detail, however it contains over 9000 categories which would make the training process significantly slower. We use **ccs_3_desc** since it does not contain as many categories but provides enough detail. \n",
        "\n",
        "First we would need to merge the health status data with the prescription data so that we have that mapping. Then we could just use the prescriptions and health statuses to perform the modeling. "
      ]
    },
    {
      "cell_type": "code",
      "metadata": {
        "colab": {
          "base_uri": "https://localhost:8080/"
        },
        "id": "K2uJ5tIJBlD0",
        "outputId": "7186e0fe-3f79-40a9-bf66-799a71b31512"
      },
      "source": [
        "print (\"Number of unique categories for drug_category: \",len(df_drugs['drug_category'].value_counts()))"
      ],
      "execution_count": 36,
      "outputs": [
        {
          "output_type": "stream",
          "text": [
            "Number of unique categories for drug_category:  92\n"
          ],
          "name": "stdout"
        }
      ]
    },
    {
      "cell_type": "code",
      "metadata": {
        "colab": {
          "base_uri": "https://localhost:8080/"
        },
        "id": "wDXtVESNBlJm",
        "outputId": "b9c44422-46b2-4325-c33f-a7276ee8f524"
      },
      "source": [
        "print (\"Number of unique categories for drug_group: \",len(df_drugs['drug_group'].value_counts()))"
      ],
      "execution_count": 37,
      "outputs": [
        {
          "output_type": "stream",
          "text": [
            "Number of unique categories for drug_group:  464\n"
          ],
          "name": "stdout"
        }
      ]
    },
    {
      "cell_type": "code",
      "metadata": {
        "colab": {
          "base_uri": "https://localhost:8080/"
        },
        "id": "1w4IwMMSBlMp",
        "outputId": "2247fcfc-42e9-444f-8c03-2da8cff2a23c"
      },
      "source": [
        "print (\"Number of unique categories for drug_class: \",len(df_drugs['drug_class'].value_counts()))"
      ],
      "execution_count": 38,
      "outputs": [
        {
          "output_type": "stream",
          "text": [
            "Number of unique categories for drug_class:  687\n"
          ],
          "name": "stdout"
        }
      ]
    },
    {
      "cell_type": "code",
      "metadata": {
        "colab": {
          "base_uri": "https://localhost:8080/"
        },
        "id": "LvD7paGdA7hp",
        "outputId": "4b35a9c7-0615-49f5-da1d-fcecfe52893b"
      },
      "source": [
        "df_drugs.shape"
      ],
      "execution_count": 39,
      "outputs": [
        {
          "output_type": "execute_result",
          "data": {
            "text/plain": [
              "(3005934, 7)"
            ]
          },
          "metadata": {
            "tags": []
          },
          "execution_count": 39
        }
      ]
    },
    {
      "cell_type": "markdown",
      "metadata": {
        "id": "BUoW9BGQH2_g"
      },
      "source": [
        "### 4.1 Merging health status and prescription datasets"
      ]
    },
    {
      "cell_type": "code",
      "metadata": {
        "colab": {
          "base_uri": "https://localhost:8080/",
          "height": 202
        },
        "id": "CBrdCT75CIgD",
        "outputId": "9334ea6a-ee90-449b-fe0e-47bb80ea9b9f"
      },
      "source": [
        "df_model = df_drugs.merge(df_health_status,how='inner',on='member_id')\n",
        "df_model.head()"
      ],
      "execution_count": 30,
      "outputs": [
        {
          "output_type": "execute_result",
          "data": {
            "text/html": [
              "<div>\n",
              "<style scoped>\n",
              "    .dataframe tbody tr th:only-of-type {\n",
              "        vertical-align: middle;\n",
              "    }\n",
              "\n",
              "    .dataframe tbody tr th {\n",
              "        vertical-align: top;\n",
              "    }\n",
              "\n",
              "    .dataframe thead th {\n",
              "        text-align: right;\n",
              "    }\n",
              "</style>\n",
              "<table border=\"1\" class=\"dataframe\">\n",
              "  <thead>\n",
              "    <tr style=\"text-align: right;\">\n",
              "      <th></th>\n",
              "      <th>record_id</th>\n",
              "      <th>member_id</th>\n",
              "      <th>date_svc</th>\n",
              "      <th>ndc</th>\n",
              "      <th>drug_category</th>\n",
              "      <th>drug_group</th>\n",
              "      <th>drug_class</th>\n",
              "      <th>health_status</th>\n",
              "    </tr>\n",
              "  </thead>\n",
              "  <tbody>\n",
              "    <tr>\n",
              "      <th>0</th>\n",
              "      <td>4115084976453758912</td>\n",
              "      <td>M0023556</td>\n",
              "      <td>2016-05-08</td>\n",
              "      <td>51285040702</td>\n",
              "      <td>Estrogens</td>\n",
              "      <td>Estrogens</td>\n",
              "      <td>Estrogens</td>\n",
              "      <td>Member M0023556 was diagnosed with diabetes me...</td>\n",
              "    </tr>\n",
              "    <tr>\n",
              "      <th>1</th>\n",
              "      <td>633634268929772520</td>\n",
              "      <td>M0023556</td>\n",
              "      <td>2016-11-15</td>\n",
              "      <td>46110181</td>\n",
              "      <td>Estrogens</td>\n",
              "      <td>Estrogens</td>\n",
              "      <td>Estrogens</td>\n",
              "      <td>Member M0023556 was diagnosed with diabetes me...</td>\n",
              "    </tr>\n",
              "    <tr>\n",
              "      <th>2</th>\n",
              "      <td>8828344746674933500</td>\n",
              "      <td>M0023556</td>\n",
              "      <td>2018-01-10</td>\n",
              "      <td>99073012101</td>\n",
              "      <td>Diagnostic Products</td>\n",
              "      <td>Diagnostic Tests</td>\n",
              "      <td>Diagnostic Tests</td>\n",
              "      <td>Member M0023556 was diagnosed with diabetes me...</td>\n",
              "    </tr>\n",
              "    <tr>\n",
              "      <th>3</th>\n",
              "      <td>175380569212871566</td>\n",
              "      <td>M0023556</td>\n",
              "      <td>2017-07-20</td>\n",
              "      <td>46110181</td>\n",
              "      <td>Estrogens</td>\n",
              "      <td>Estrogens</td>\n",
              "      <td>Estrogens</td>\n",
              "      <td>Member M0023556 was diagnosed with diabetes me...</td>\n",
              "    </tr>\n",
              "    <tr>\n",
              "      <th>4</th>\n",
              "      <td>4111617532992638126</td>\n",
              "      <td>M0023556</td>\n",
              "      <td>2017-05-27</td>\n",
              "      <td>46110181</td>\n",
              "      <td>Estrogens</td>\n",
              "      <td>Estrogens</td>\n",
              "      <td>Estrogens</td>\n",
              "      <td>Member M0023556 was diagnosed with diabetes me...</td>\n",
              "    </tr>\n",
              "  </tbody>\n",
              "</table>\n",
              "</div>"
            ],
            "text/plain": [
              "             record_id  ...                                      health_status\n",
              "0  4115084976453758912  ...  Member M0023556 was diagnosed with diabetes me...\n",
              "1   633634268929772520  ...  Member M0023556 was diagnosed with diabetes me...\n",
              "2  8828344746674933500  ...  Member M0023556 was diagnosed with diabetes me...\n",
              "3   175380569212871566  ...  Member M0023556 was diagnosed with diabetes me...\n",
              "4  4111617532992638126  ...  Member M0023556 was diagnosed with diabetes me...\n",
              "\n",
              "[5 rows x 8 columns]"
            ]
          },
          "metadata": {
            "tags": []
          },
          "execution_count": 30
        }
      ]
    },
    {
      "cell_type": "code",
      "metadata": {
        "colab": {
          "base_uri": "https://localhost:8080/"
        },
        "id": "aHc3xDusCj_n",
        "outputId": "9702ac5b-8e4a-42e0-edd7-6ff5b464d2d4"
      },
      "source": [
        "df_model.shape"
      ],
      "execution_count": 31,
      "outputs": [
        {
          "output_type": "execute_result",
          "data": {
            "text/plain": [
              "(2749752, 8)"
            ]
          },
          "metadata": {
            "tags": []
          },
          "execution_count": 31
        }
      ]
    },
    {
      "cell_type": "markdown",
      "metadata": {
        "id": "OGzlniPSIANp"
      },
      "source": [
        "### 4.2 Removing variables not useful for prediction\n",
        "\n",
        "Since we only need need the prescription information in order to predict the health status classes, we can remove the following variables which provide little information for the modeling process: \n",
        "- record_id\n",
        "- member_id\n",
        "- date_svc: Provides same information as **drug_group** and **drug_class**\n",
        "- ndc\n",
        "- drug_group: This variable was removed since it provided a lot of the same information as **drug_class**. During prediction, if we only have this information, we can easily map it from drug_class. "
      ]
    },
    {
      "cell_type": "code",
      "metadata": {
        "colab": {
          "base_uri": "https://localhost:8080/",
          "height": 202
        },
        "id": "epOlPaOzCssU",
        "outputId": "248b87be-6efb-4d9b-b84c-40564be08607"
      },
      "source": [
        "df_model = df_model.drop(['record_id','member_id','date_svc','ndc','drug_group'],axis=1)\n",
        "df_model.head()"
      ],
      "execution_count": 32,
      "outputs": [
        {
          "output_type": "execute_result",
          "data": {
            "text/html": [
              "<div>\n",
              "<style scoped>\n",
              "    .dataframe tbody tr th:only-of-type {\n",
              "        vertical-align: middle;\n",
              "    }\n",
              "\n",
              "    .dataframe tbody tr th {\n",
              "        vertical-align: top;\n",
              "    }\n",
              "\n",
              "    .dataframe thead th {\n",
              "        text-align: right;\n",
              "    }\n",
              "</style>\n",
              "<table border=\"1\" class=\"dataframe\">\n",
              "  <thead>\n",
              "    <tr style=\"text-align: right;\">\n",
              "      <th></th>\n",
              "      <th>drug_category</th>\n",
              "      <th>drug_class</th>\n",
              "      <th>health_status</th>\n",
              "    </tr>\n",
              "  </thead>\n",
              "  <tbody>\n",
              "    <tr>\n",
              "      <th>0</th>\n",
              "      <td>Estrogens</td>\n",
              "      <td>Estrogens</td>\n",
              "      <td>Member M0023556 was diagnosed with diabetes me...</td>\n",
              "    </tr>\n",
              "    <tr>\n",
              "      <th>1</th>\n",
              "      <td>Estrogens</td>\n",
              "      <td>Estrogens</td>\n",
              "      <td>Member M0023556 was diagnosed with diabetes me...</td>\n",
              "    </tr>\n",
              "    <tr>\n",
              "      <th>2</th>\n",
              "      <td>Diagnostic Products</td>\n",
              "      <td>Diagnostic Tests</td>\n",
              "      <td>Member M0023556 was diagnosed with diabetes me...</td>\n",
              "    </tr>\n",
              "    <tr>\n",
              "      <th>3</th>\n",
              "      <td>Estrogens</td>\n",
              "      <td>Estrogens</td>\n",
              "      <td>Member M0023556 was diagnosed with diabetes me...</td>\n",
              "    </tr>\n",
              "    <tr>\n",
              "      <th>4</th>\n",
              "      <td>Estrogens</td>\n",
              "      <td>Estrogens</td>\n",
              "      <td>Member M0023556 was diagnosed with diabetes me...</td>\n",
              "    </tr>\n",
              "  </tbody>\n",
              "</table>\n",
              "</div>"
            ],
            "text/plain": [
              "         drug_category  ...                                      health_status\n",
              "0            Estrogens  ...  Member M0023556 was diagnosed with diabetes me...\n",
              "1            Estrogens  ...  Member M0023556 was diagnosed with diabetes me...\n",
              "2  Diagnostic Products  ...  Member M0023556 was diagnosed with diabetes me...\n",
              "3            Estrogens  ...  Member M0023556 was diagnosed with diabetes me...\n",
              "4            Estrogens  ...  Member M0023556 was diagnosed with diabetes me...\n",
              "\n",
              "[5 rows x 3 columns]"
            ]
          },
          "metadata": {
            "tags": []
          },
          "execution_count": 32
        }
      ]
    },
    {
      "cell_type": "markdown",
      "metadata": {
        "id": "3hLYNvoSPznH"
      },
      "source": [
        "### 4.3 Sampling part of the dataset due to memory constraints"
      ]
    },
    {
      "cell_type": "code",
      "metadata": {
        "id": "sdnNY7FOPz1v"
      },
      "source": [
        "df_model = df_model.sample(frac=0.3,random_state=0)"
      ],
      "execution_count": 33,
      "outputs": []
    },
    {
      "cell_type": "code",
      "metadata": {
        "colab": {
          "base_uri": "https://localhost:8080/"
        },
        "id": "4BAW1KylRDrh",
        "outputId": "2a4a695b-8aa0-4625-c8f4-5d5301d6c34d"
      },
      "source": [
        "df_model.shape"
      ],
      "execution_count": 34,
      "outputs": [
        {
          "output_type": "execute_result",
          "data": {
            "text/plain": [
              "(274975, 3)"
            ]
          },
          "metadata": {
            "tags": []
          },
          "execution_count": 34
        }
      ]
    },
    {
      "cell_type": "markdown",
      "metadata": {
        "id": "fdrzfo2qKq3p"
      },
      "source": [
        "### 4.4 Pre-processing and separating dataset into X and Y variables"
      ]
    },
    {
      "cell_type": "code",
      "metadata": {
        "id": "A4GK8_ccThfi"
      },
      "source": [
        "#Label encoding categorical variables\n",
        "le = LabelEncoder()\n",
        "\n",
        "le.fit_transform(df_model['drug_category'])\n",
        "df_model[\"drug_category\"] = le.transform(df_model[\"drug_category\"])\n",
        "\n",
        "le.fit_transform(df_model['drug_class'])\n",
        "df_model[\"drug_class\"] = le.transform(df_model[\"drug_class\"])\n",
        "\n",
        "le.fit_transform(df_model['health_status'])\n",
        "df_model[\"health_status\"] = le.transform(df_model[\"health_status\"])"
      ],
      "execution_count": 35,
      "outputs": []
    },
    {
      "cell_type": "code",
      "metadata": {
        "colab": {
          "base_uri": "https://localhost:8080/"
        },
        "id": "6AbRrgOvDAWj",
        "outputId": "e7a16168-e6e1-4785-d076-fca095dc6c8e"
      },
      "source": [
        "X = df_model.drop('health_status',axis=1)\n",
        "Y = df_model['health_status']\n",
        "print (X.shape)\n",
        "print (Y.shape)"
      ],
      "execution_count": 36,
      "outputs": [
        {
          "output_type": "stream",
          "text": [
            "(274975, 2)\n",
            "(274975,)\n"
          ],
          "name": "stdout"
        }
      ]
    },
    {
      "cell_type": "code",
      "metadata": {
        "colab": {
          "base_uri": "https://localhost:8080/",
          "height": 202
        },
        "id": "xb3jdCqXL6SV",
        "outputId": "95c3281b-6d96-4dbd-e32d-51273a661bef"
      },
      "source": [
        "X.head()"
      ],
      "execution_count": 37,
      "outputs": [
        {
          "output_type": "execute_result",
          "data": {
            "text/html": [
              "<div>\n",
              "<style scoped>\n",
              "    .dataframe tbody tr th:only-of-type {\n",
              "        vertical-align: middle;\n",
              "    }\n",
              "\n",
              "    .dataframe tbody tr th {\n",
              "        vertical-align: top;\n",
              "    }\n",
              "\n",
              "    .dataframe thead th {\n",
              "        text-align: right;\n",
              "    }\n",
              "</style>\n",
              "<table border=\"1\" class=\"dataframe\">\n",
              "  <thead>\n",
              "    <tr style=\"text-align: right;\">\n",
              "      <th></th>\n",
              "      <th>drug_category</th>\n",
              "      <th>drug_class</th>\n",
              "    </tr>\n",
              "  </thead>\n",
              "  <tbody>\n",
              "    <tr>\n",
              "      <th>1921782</th>\n",
              "      <td>23</td>\n",
              "      <td>280</td>\n",
              "    </tr>\n",
              "    <tr>\n",
              "      <th>2730628</th>\n",
              "      <td>23</td>\n",
              "      <td>280</td>\n",
              "    </tr>\n",
              "    <tr>\n",
              "      <th>1383841</th>\n",
              "      <td>16</td>\n",
              "      <td>488</td>\n",
              "    </tr>\n",
              "    <tr>\n",
              "      <th>2224594</th>\n",
              "      <td>15</td>\n",
              "      <td>67</td>\n",
              "    </tr>\n",
              "    <tr>\n",
              "      <th>221136</th>\n",
              "      <td>46</td>\n",
              "      <td>330</td>\n",
              "    </tr>\n",
              "  </tbody>\n",
              "</table>\n",
              "</div>"
            ],
            "text/plain": [
              "         drug_category  drug_class\n",
              "1921782             23         280\n",
              "2730628             23         280\n",
              "1383841             16         488\n",
              "2224594             15          67\n",
              "221136              46         330"
            ]
          },
          "metadata": {
            "tags": []
          },
          "execution_count": 37
        }
      ]
    },
    {
      "cell_type": "markdown",
      "metadata": {
        "id": "lwyycSnqKwZp"
      },
      "source": [
        "### 4.5 Separating the data further into train and test sets"
      ]
    },
    {
      "cell_type": "markdown",
      "metadata": {
        "id": "haUupKl1q4a5"
      },
      "source": [
        "Normally, it would also be useful to have a validation set (third set) to test the final model but we will stick with just the train and test sets for this example. "
      ]
    },
    {
      "cell_type": "code",
      "metadata": {
        "colab": {
          "base_uri": "https://localhost:8080/"
        },
        "id": "WAVCpFsQKBu2",
        "outputId": "90917e8f-6d51-4966-b687-4c9145570846"
      },
      "source": [
        "#Train/Test Split\n",
        "x_train,x_test,y_train,y_test = train_test_split(X,Y,random_state=0,test_size=0.3)\n",
        "print (x_train.shape)\n",
        "print (x_test.shape)\n",
        "print (y_train.shape)\n",
        "print (y_test.shape)"
      ],
      "execution_count": 38,
      "outputs": [
        {
          "output_type": "stream",
          "text": [
            "(192482, 2)\n",
            "(82493, 2)\n",
            "(192482,)\n",
            "(82493,)\n"
          ],
          "name": "stdout"
        }
      ]
    },
    {
      "cell_type": "markdown",
      "metadata": {
        "id": "-AF3W5Y7kgcy"
      },
      "source": [
        "### 4.6 Modeling and evaluation"
      ]
    },
    {
      "cell_type": "code",
      "metadata": {
        "id": "WJeDIe9tM_O3"
      },
      "source": [
        "def model_predict(model,x_train,x_test,y_train,y_test):  \n",
        "\n",
        "  x_train = pd.DataFrame(x_train)\n",
        "  x_train.columns = X.columns\n",
        "  x_test = pd.DataFrame(x_test)\n",
        "  x_test.columns = X.columns\n",
        "  y_train = pd.DataFrame(y_train)\n",
        "  y_test = pd.DataFrame(y_test)\n",
        "\n",
        "  #Modeling and prediction\n",
        "  model = model.fit(x_train,y_train)\n",
        "  prediction = model.predict(x_test)\n",
        "\n",
        "  #Calculating prediction probabilities\n",
        "  lr_probs = model.predict_proba(x_test)\n",
        "  lr_probs_pos = lr_probs[:,1]\n",
        "  lr_probs_neg = lr_probs[:,0]\n",
        "\n",
        "  #lr_auc_pos = roc_auc_score(y_test, lr_probs_pos, multi_class='ovr')\n",
        "  #tn, fp, fn, tp = confusion_matrix(y_test.values, prediction).ravel()\n",
        "\n",
        "  #Calculating scoring metrics\n",
        "  precision = precision_score(y_test.values,prediction,average=None)\n",
        "  accuracy = accuracy_score(y_test.values,prediction)\n",
        "  #roc_auc = lr_auc_pos\n",
        "  recall = recall_score(y_test.values,prediction,average=None)\n",
        "  f1 = f1_score(y_test.values,prediction,average=None)\n",
        "  #specificity = tn/(tn+fp)\n",
        "\n",
        "  #print (\"ROC AUC: \",roc_auc)\n",
        "  print (\"Accuracy: \",accuracy)\n",
        "  print (\"Precision: \",precision)\n",
        "  print (\"Recall: \",recall)\n",
        "  print (\"F1 score: \",f1)\n",
        "  #print (\"Specificity: \",specificity)\n",
        "\n",
        "  '''\n",
        "  #Calculating ROC AUC values\n",
        "  lr_auc = roc_auc_score(y_test, prediction, multi_class='ovr')\n",
        "  lr_auc_pos = roc_auc_score(y_test, lr_probs_pos, multi_class='ovr')\n",
        "  lr_auc_neg = roc_auc_score(y_test, lr_probs_neg, multi_class='ovr')\n",
        "\n",
        "  print('Combined ROC AUC=%.3f' % (lr_auc))\n",
        "  print('Severe class ROC AUC=%.3f' % (lr_auc_pos))\n",
        "  print('Not severe class ROC AUC=%.3f' % (lr_auc_neg))\n",
        "\n",
        "  lr_fpr, lr_tpr, thresh = roc_curve(y_test, prediction)\n",
        "  lr_fpr_neg, lr_tpr_neg, thresh = roc_curve(y_test, lr_probs[:,0])\n",
        "  lr_fpr_pos, lr_tpr_pos, thresh = roc_curve(y_test, lr_probs_pos)\n",
        "\n",
        "  tn, fp, fn, tp = confusion_matrix(y_test.values, prediction).ravel()\n",
        "  '''"
      ],
      "execution_count": 2,
      "outputs": []
    },
    {
      "cell_type": "code",
      "metadata": {
        "colab": {
          "base_uri": "https://localhost:8080/"
        },
        "id": "-IXjGMhtNJe-",
        "outputId": "02c924d1-a7c5-4db6-b529-d49b99998b0c"
      },
      "source": [
        "model_predict(LGBMClassifier(objective='multiclass',random_state=0),x_train,x_test,y_train,y_test)"
      ],
      "execution_count": null,
      "outputs": [
        {
          "output_type": "stream",
          "text": [
            "         health_status\n",
            "1247950          57834\n",
            "1074429          39421\n",
            "177556           93125\n",
            "146291           41828\n",
            "724080           44036\n",
            "...                ...\n",
            "881494           17912\n",
            "1021883          47250\n",
            "1065396          48808\n",
            "100646           32202\n",
            "1547644          60234\n",
            "\n",
            "[82493 rows x 1 columns]\n",
            "(82493, 1)\n"
          ],
          "name": "stdout"
        }
      ]
    },
    {
      "cell_type": "markdown",
      "metadata": {
        "id": "Uer-ZmzClL1B"
      },
      "source": [
        "Trying to run the model with the given data tends to crash the session as it exceeds the amount of RAM available.\n",
        "\n",
        "Possible options for preventing crashes: \n",
        "- Use a smaller sample size for the training data\n",
        "- Reduce the number of categories in variables which would decrease the training time but make the categories more general\n",
        "- Use **ccs_1_desc** as the health status since it only contains 18 categories\n",
        "\n",
        "I ran out of time to fix these issues. Above, I tried to run the model in a 'one vs all' manner for a multi-class classification problem for predicting the various health statuses. I used the LightGBM classifier since it tends to be quicker and more accurate than the other tree-based models. Also, it requires very less preprocessing for the training data. "
      ]
    },
    {
      "cell_type": "code",
      "metadata": {
        "id": "q4s6tvIZZl4s"
      },
      "source": [
        ""
      ],
      "execution_count": null,
      "outputs": []
    }
  ]
}